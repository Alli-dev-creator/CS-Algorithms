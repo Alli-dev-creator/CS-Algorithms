{
 "cells": [
  {
   "cell_type": "markdown",
   "id": "7f6552be",
   "metadata": {},
   "source": [
    "A code without functions describing how exhaustive it would be to find square root and third root or nth root if we want find for any nth root of a number.                               "
   ]
  },
  {
   "cell_type": "code",
   "execution_count": null,
   "id": "4b96e3db",
   "metadata": {},
   "outputs": [
    {
     "name": "stdout",
     "output_type": "stream",
     "text": [
      "Sum of square root 25 and the cube root of -8 is close to 3.00030517578125\n"
     ]
    }
   ],
   "source": [
    "x1 = 25 #Assigning the number to find the square root\n",
    "epsilon = 0.01 # this increases the accuracy of our result and reduces mutiplication\n",
    "if x1 < 0:\n",
    "    print(\"Does not exist\") #A -ve num does not have a square root\n",
    "else:\n",
    "    low = 0 # setting min for bisection\n",
    "    high = max(1,x1) # setting the num for bisection\n",
    "    ans = (high + low)/2 # finding the midpoint\n",
    "    while abs(ans**2 - x1) >= epsilon:\n",
    "        if ans**2 > x1:\n",
    "            high = ans # if the square of ans is greater than x1, then we need to search in the lower half\n",
    "        else:\n",
    "            low = ans # if the square of ans is less than x1, then we need to search in the upper half  \n",
    "        ans = (high + low)/2\n",
    "x1_root = ans # the square root of x1\n",
    "\n",
    "x2 = -8    # Assigning the number to find the cube root  \n",
    "if x2< 0:   # A -ve num has a cube root\n",
    "    is_pos = False\n",
    "    x2 = -x2\n",
    "else: # A +ve num has a cube root\n",
    "    is_pos = True\n",
    "low = 0 # setting min for bisection\n",
    "high = max(1,x2) # setting the num for bisection\n",
    "ans = (high + low)/2 # finding the midpoint\n",
    "while abs(ans**3 - x2) >= epsilon:\n",
    "    if ans**3 < x2:\n",
    "        low = ans # if the cube of ans is less than x2, then we need to search in the upper half\n",
    "    else:\n",
    "        high = ans # if the cube of ans is greater than x2, then we need to search in the lower half\n",
    "    ans= (high + low)/2\n",
    "if is_pos:\n",
    "    x2_root = ans #  the cube root of x2\n",
    "else:\n",
    "    x2_root = -ans # the cube root of -x2\n",
    "    x2 = -x2\n",
    "print('Sum of square root', x1, 'and the cube root of', x2, 'is close to', x1_root + x2_root) "
   ]
  },
  {
   "cell_type": "markdown",
   "id": "b48fee54",
   "metadata": {},
   "source": [
    "Using functions to make it easier to determine which n I want to use the nth root and describing the epsilon to change that accuracy of the results regardless"
   ]
  },
  {
   "cell_type": "code",
   "execution_count": null,
   "id": "6b52b4cb",
   "metadata": {},
   "outputs": [
    {
     "name": "stdout",
     "output_type": "stream",
     "text": [
      "5.000000074505806\n",
      "-2.0\n",
      "2.0\n"
     ]
    }
   ],
   "source": [
    "def  find_root(x, power, epsilon): # function to find the root of a number\n",
    "    if x < 0 and power % 2 == 0: # A -ve num does not have a square root\n",
    "        return None\n",
    "    low = min(0,x) # setting min for bisection\n",
    "    high = max (0,x) # setting the num for bisection\n",
    "    ans = (high + low)/2 # finding the midpoint\n",
    "    while abs(ans**power - x) >= epsilon:\n",
    "        if ans**power < x :\n",
    "            low = ans # if the power of ans is less than x, then we need to search in the upper half\n",
    "        else:\n",
    "            high = ans # if the power of ans is greater than x, then we need to search in the lower half\n",
    "        ans = (high + low)/2 # finding the midpoint\n",
    "    return ans # the root of x\n",
    "print(find_root(25,2,0.000001)) # test cases\n",
    "print(find_root(-8,3,0.000001)) # test cases\n",
    "print(find_root(16,4,0.000001)) # test cases"
   ]
  },
  {
   "cell_type": "markdown",
   "id": "dc884a0b",
   "metadata": {},
   "source": [
    "This is a function indicating that the find root function that I created is actually working. Bad indicates there is an error in the function while Okay tells me that the functions works for different test cases. \"Does not exist\" is for cases in which the root of a -ve number does not work for even powers."
   ]
  },
  {
   "cell_type": "code",
   "execution_count": null,
   "id": "80adc989",
   "metadata": {},
   "outputs": [],
   "source": [
    "def test_find_roots(x_vals, power, epsilon): # function to test the find_root function\n",
    "    for x in x_vals: # test cases\n",
    "        for p in power: # test cases\n",
    "            for e in epsilon: # test cases\n",
    "                result = find_root(x,p,e) # calling the find_root function\n",
    "                if result == None:\n",
    "                    val = \"The root does not exist\" #   if the root does not exist\n",
    "                else:\n",
    "                    val = 'Okay' # if the root exists\n",
    "                    if abs(result**p - x) >= e:\n",
    "                        val = 'Bad' # if the root is not close to x\n",
    "                print(f'x = {x}, power = {p} epsilon = {e}: {val}')        \n",
    "                        \n",
    "            \n",
    "                "
   ]
  },
  {
   "cell_type": "markdown",
   "id": "fc451c75",
   "metadata": {},
   "source": [
    "x_vals, power and epsilon are arrays for the arguments for different numbers and powers and epsilon. So, they are more like test cases used to test the find_root function "
   ]
  },
  {
   "cell_type": "code",
   "execution_count": 9,
   "id": "7e42f8ad",
   "metadata": {},
   "outputs": [
    {
     "name": "stdout",
     "output_type": "stream",
     "text": [
      "x = 0.25, power = 1 epsilon = 0.1: Okay\n",
      "x = 0.25, power = 1 epsilon = 0.001: Okay\n",
      "x = 0.25, power = 1 epsilon = 1: Okay\n",
      "x = 0.25, power = 2 epsilon = 0.1: Okay\n",
      "x = 0.25, power = 2 epsilon = 0.001: Okay\n",
      "x = 0.25, power = 2 epsilon = 1: Okay\n",
      "x = 0.25, power = 3 epsilon = 0.1: Okay\n",
      "x = 0.25, power = 3 epsilon = 0.001: Okay\n",
      "x = 0.25, power = 3 epsilon = 1: Okay\n",
      "x = 8, power = 1 epsilon = 0.1: Okay\n",
      "x = 8, power = 1 epsilon = 0.001: Okay\n",
      "x = 8, power = 1 epsilon = 1: Okay\n",
      "x = 8, power = 2 epsilon = 0.1: Okay\n",
      "x = 8, power = 2 epsilon = 0.001: Okay\n",
      "x = 8, power = 2 epsilon = 1: Okay\n",
      "x = 8, power = 3 epsilon = 0.1: Okay\n",
      "x = 8, power = 3 epsilon = 0.001: Okay\n",
      "x = 8, power = 3 epsilon = 1: Okay\n",
      "x = -8, power = 1 epsilon = 0.1: Okay\n",
      "x = -8, power = 1 epsilon = 0.001: Okay\n",
      "x = -8, power = 1 epsilon = 1: Okay\n",
      "x = -8, power = 2 epsilon = 0.1: The root does not exist\n",
      "x = -8, power = 2 epsilon = 0.001: The root does not exist\n",
      "x = -8, power = 2 epsilon = 1: The root does not exist\n",
      "x = -8, power = 3 epsilon = 0.1: Okay\n",
      "x = -8, power = 3 epsilon = 0.001: Okay\n",
      "x = -8, power = 3 epsilon = 1: Okay\n"
     ]
    }
   ],
   "source": [
    "x_vals = (0.25,8,-8)\n",
    "power = (1,2,3)\n",
    "epsilon = (0.1,0.001,1)\n",
    "test_find_roots(x_vals,power,epsilon)"
   ]
  },
  {
   "cell_type": "markdown",
   "id": "86eb574b",
   "metadata": {},
   "source": [
    "The find_root_bounds function is telling us the bounds we used to start the bisection search. The bisection_solve function is to perform bisection search. Joining the bisection_solve and find_root_bounds to form find_root function which approximates the nth root of a function."
   ]
  },
  {
   "cell_type": "code",
   "execution_count": null,
   "id": "72b9313d",
   "metadata": {},
   "outputs": [],
   "source": [
    "def find_root_bounds(x, power): # function to find the bounds of the root\n",
    "    \"\"\"Returns search bounds\"\"\"\n",
    "    low = min(-1, x) # setting min for bisection\n",
    "    high = max(1, x) #  setting the num for bisection\n",
    "    return low, high # function to find the bounds of the root\n",
    "\n",
    "def bisection_solve(x, power, epsilon, low, high):\n",
    "    \"\"\"Performs bisection search\"\"\"\n",
    "    ans = (high + low)/2 # finding the midpoint\n",
    "    while abs(ans**power - x) >= epsilon:\n",
    "        if ans**power < x:\n",
    "            low = ans # if the power of ans is less than x, then we need to search in the upper half\n",
    "        else:\n",
    "            high = ans # if the power of ans is greater than x, then we need to search in the lower half\n",
    "        ans = (high + low)/2 # finding the midpoint\n",
    "    return ans # the root of x\n",
    "\n",
    "def find_root(x, power, epsilon):\n",
    "    \"\"\"Main function\"\"\"\n",
    "    if x < 0 and power%2 == 0:\n",
    "        return None\n",
    "    low, high = find_root_bounds(x, power)\n",
    "    return bisection_solve(x, power, epsilon, low, high)"
   ]
  },
  {
   "cell_type": "markdown",
   "id": "71885e15",
   "metadata": {},
   "source": [
    "Using Bisection Method to write a function for the Euclidean distance between two points."
   ]
  },
  {
   "cell_type": "code",
   "execution_count": 14,
   "id": "1e282558",
   "metadata": {},
   "outputs": [
    {
     "data": {
      "text/plain": [
       "2.8284271247466677"
      ]
     },
     "execution_count": 14,
     "metadata": {},
     "output_type": "execute_result"
    }
   ],
   "source": [
    "def diff_squares(a,b):\n",
    "    return (abs(a[1]-b[1]))**2 + (abs(a[0]-b[0]))**2 # function to find the difference of squares of a and b\n",
    "def sqr_root(x1):\n",
    "    low = 0 # setting min for bisection\n",
    "    high = x1\n",
    "    ans = (low + high)/2 # finding the midpoint\n",
    "    epsilon = 0.00000000001 # this increases the accuracy of our result and reduces mutiplication\n",
    "    while abs(ans**2 - x1) >= epsilon:\n",
    "        if ans**2 > x1:\n",
    "            high = ans # if the square of ans is greater than x1, then we need to search in the lower half\n",
    "        else:\n",
    "            low = ans # if the square of ans is less than x1, then we need to search in the upper half  \n",
    "        ans = (high + low)/2\n",
    "    return ans # the square root of x1\n",
    "def euclid(x,y):\n",
    "    a1 = diff_squares(x,y)\n",
    "    return sqr_root(a1) # the square root of the difference of squares of x and y\n",
    "euclid((2,3),(4,5))"
   ]
  },
  {
   "cell_type": "markdown",
   "id": "bce8abb8",
   "metadata": {},
   "source": [
    "This compares the iterative and recursive methods of writing a code for the n factorial "
   ]
  },
  {
   "cell_type": "code",
   "execution_count": null,
   "id": "11ec875a",
   "metadata": {},
   "outputs": [
    {
     "name": "stdout",
     "output_type": "stream",
     "text": [
      "120\n",
      "120\n"
     ]
    }
   ],
   "source": [
    "# Iterative\n",
    "import time\n",
    "def fact_iter(n):\n",
    "    result = 1 # 1 is the multiplicative identity\n",
    "    for i in range(1, n+1):\n",
    "        result *= i # multiply the result by i iteratively\n",
    "    return result # the factorial of n\n",
    "# Recursive\n",
    "def fact_rec(n):\n",
    "    if n == 1:\n",
    "        return n # base case\n",
    "    else:\n",
    "        return n*fact_rec(n - 1) # recursive case  \n",
    "print(fact_iter(5))# test cases\n",
    "print(fact_rec(5)) # test cases\n",
    " \n"
   ]
  },
  {
   "cell_type": "markdown",
   "id": "27e39b99",
   "metadata": {},
   "source": [
    "This is a recursive method for writing the Fibonacci series. "
   ]
  },
  {
   "cell_type": "code",
   "execution_count": null,
   "id": "dbe575a4",
   "metadata": {},
   "outputs": [
    {
     "name": "stdout",
     "output_type": "stream",
     "text": [
      "fib of 0 = 1\n",
      "fib of 1 = 1\n",
      "fib of 2 = 2\n",
      "fib of 3 = 3\n",
      "fib of 4 = 5\n",
      "fib of 5 = 8\n",
      "fib of 6 = 13\n",
      "fib of 7 = 21\n",
      "fib of 8 = 34\n",
      "fib of 9 = 55\n",
      "fib of 10 = 89\n"
     ]
    }
   ],
   "source": [
    "def fib(n):\n",
    "    if n == 0 or n == 1:\n",
    "        return 1 # base case\n",
    "    else:\n",
    "        return fib(n-1) + fib(n-2) # recursive case\n",
    "\n",
    "def test_fib(n):\n",
    "    for i in range(n+1): # test cases\n",
    "        print('fib of', i, '=', fib(i)) # test cases\n",
    "test_fib(10) # test cases        "
   ]
  },
  {
   "cell_type": "markdown",
   "id": "f56b12f4",
   "metadata": {},
   "source": [
    "Using a recursive method to write a palindrome"
   ]
  },
  {
   "cell_type": "code",
   "execution_count": null,
   "id": "7cd06496",
   "metadata": {},
   "outputs": [],
   "source": [
    "def is_palindrome(s): #` function to check if a string is a palindrome`\n",
    "    def to_chars(s): # function to convert a string to lowercase and remove non-letter characters\n",
    "        s = s.lower()\n",
    "        letters = ''\n",
    "        for c in s:\n",
    "            if c in 'abcdefghijklmnopqrstuvwxyz':\n",
    "                letters += c\n",
    "        return letters\n",
    "    \n",
    "    def is_pal(s):\n",
    "        if len(s) <= 1:\n",
    "            return True\n",
    "        else:\n",
    "            return s[0] == s[-1] and is_pal(s[1:-1])\n",
    "    \n",
    "    return is_pal(to_chars(s))\n"
   ]
  }
 ],
 "metadata": {
  "kernelspec": {
   "display_name": "Python 3",
   "language": "python",
   "name": "python3"
  },
  "language_info": {
   "codemirror_mode": {
    "name": "ipython",
    "version": 3
   },
   "file_extension": ".py",
   "mimetype": "text/x-python",
   "name": "python",
   "nbconvert_exporter": "python",
   "pygments_lexer": "ipython3",
   "version": "3.10.11"
  }
 },
 "nbformat": 4,
 "nbformat_minor": 5
}
