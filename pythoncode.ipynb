{
 "cells": [
  {
   "cell_type": "markdown",
   "id": "7f6552be",
   "metadata": {},
   "source": [
    "                               "
   ]
  },
  {
   "cell_type": "code",
   "execution_count": 2,
   "id": "4b96e3db",
   "metadata": {},
   "outputs": [
    {
     "name": "stdout",
     "output_type": "stream",
     "text": [
      "Sum of square root 25 and the cube root of -8 is close to 3.00030517578125\n"
     ]
    }
   ],
   "source": [
    "x1 = 25\n",
    "epsilon = 0.01 \n",
    "if x1 < 0:\n",
    "    print(\"Does not exist\")\n",
    "else:\n",
    "    low = 0\n",
    "    high = max(1,x1)\n",
    "    ans = (high + low)/2\n",
    "    while abs(ans**2 - x1) >= epsilon:\n",
    "        if ans**2 > x1:\n",
    "            high = ans\n",
    "        else:\n",
    "            low = ans\n",
    "        ans = (high + low)/2\n",
    "x1_root = ans\n",
    "\n",
    "x2 = -8      \n",
    "if x2< 0: \n",
    "    is_pos = False\n",
    "    x2 = -x2\n",
    "else:\n",
    "    is_pos = True\n",
    "low = 0\n",
    "high = max(1,x2)\n",
    "ans = (high + low)/2\n",
    "while abs(ans**3 - x2) >= epsilon:\n",
    "    if ans**3 < x2:\n",
    "        low = ans \n",
    "    else:\n",
    "        high = ans\n",
    "    ans= (high + low)/2\n",
    "if is_pos:\n",
    "    x2_root = ans\n",
    "else:\n",
    "    x2_root = -ans\n",
    "    x2 = -x2\n",
    "print('Sum of square root', x1, 'and the cube root of', x2, 'is close to', x1_root + x2_root) "
   ]
  },
  {
   "cell_type": "markdown",
   "id": "b48fee54",
   "metadata": {},
   "source": []
  },
  {
   "cell_type": "code",
   "execution_count": 19,
   "id": "6b52b4cb",
   "metadata": {},
   "outputs": [
    {
     "name": "stdout",
     "output_type": "stream",
     "text": [
      "5.000000074505806\n",
      "-2.0\n",
      "2.0\n"
     ]
    }
   ],
   "source": [
    "def  find_root(x, power, epsilon):\n",
    "    if x < 0 and power % 2 == 0:\n",
    "        return None\n",
    "    low = min(0,x)\n",
    "    high = max (0,x)\n",
    "    ans = (high + low)/2\n",
    "    while abs(ans**power - x) >= epsilon:\n",
    "        if ans**power < x :\n",
    "            low = ans\n",
    "        else:\n",
    "            high = ans\n",
    "        ans = (high + low)/2\n",
    "    return ans\n",
    "print(find_root(25,2,0.000001))\n",
    "print(find_root(-8,3,0.000001))\n",
    "print(find_root(16,4,0.000001))"
   ]
  },
  {
   "cell_type": "markdown",
   "id": "4175e69f",
   "metadata": {},
   "source": []
  },
  {
   "cell_type": "code",
   "execution_count": 8,
   "id": "80adc989",
   "metadata": {},
   "outputs": [],
   "source": [
    "def test_find_roots(x_vals, power, epsilon):\n",
    "    for x in x_vals:\n",
    "        for p in power:\n",
    "            for e in epsilon:\n",
    "                result = find_root(x,p,e)\n",
    "                if result == None:\n",
    "                    val = \"The root does not exist\"\n",
    "                else:\n",
    "                    val = 'Okay'\n",
    "                    if abs(result**p - x) >= e:\n",
    "                        val = 'Bad'\n",
    "                print(f'x = {x}, power = {p} epsilon = {e}: {val}')        \n",
    "                        \n",
    "            \n",
    "                "
   ]
  },
  {
   "cell_type": "markdown",
   "id": "fc451c75",
   "metadata": {},
   "source": []
  },
  {
   "cell_type": "code",
   "execution_count": 9,
   "id": "7e42f8ad",
   "metadata": {},
   "outputs": [
    {
     "name": "stdout",
     "output_type": "stream",
     "text": [
      "x = 0.25, power = 1 epsilon = 0.1: Okay\n",
      "x = 0.25, power = 1 epsilon = 0.001: Okay\n",
      "x = 0.25, power = 1 epsilon = 1: Okay\n",
      "x = 0.25, power = 2 epsilon = 0.1: Okay\n",
      "x = 0.25, power = 2 epsilon = 0.001: Okay\n",
      "x = 0.25, power = 2 epsilon = 1: Okay\n",
      "x = 0.25, power = 3 epsilon = 0.1: Okay\n",
      "x = 0.25, power = 3 epsilon = 0.001: Okay\n",
      "x = 0.25, power = 3 epsilon = 1: Okay\n",
      "x = 8, power = 1 epsilon = 0.1: Okay\n",
      "x = 8, power = 1 epsilon = 0.001: Okay\n",
      "x = 8, power = 1 epsilon = 1: Okay\n",
      "x = 8, power = 2 epsilon = 0.1: Okay\n",
      "x = 8, power = 2 epsilon = 0.001: Okay\n",
      "x = 8, power = 2 epsilon = 1: Okay\n",
      "x = 8, power = 3 epsilon = 0.1: Okay\n",
      "x = 8, power = 3 epsilon = 0.001: Okay\n",
      "x = 8, power = 3 epsilon = 1: Okay\n",
      "x = -8, power = 1 epsilon = 0.1: Okay\n",
      "x = -8, power = 1 epsilon = 0.001: Okay\n",
      "x = -8, power = 1 epsilon = 1: Okay\n",
      "x = -8, power = 2 epsilon = 0.1: The root does not exist\n",
      "x = -8, power = 2 epsilon = 0.001: The root does not exist\n",
      "x = -8, power = 2 epsilon = 1: The root does not exist\n",
      "x = -8, power = 3 epsilon = 0.1: Okay\n",
      "x = -8, power = 3 epsilon = 0.001: Okay\n",
      "x = -8, power = 3 epsilon = 1: Okay\n"
     ]
    }
   ],
   "source": [
    "x_vals = (0.25,8,-8)\n",
    "power = (1,2,3)\n",
    "epsilon = (0.1,0.001,1)\n",
    "test_find_roots(x_vals,power,epsilon)"
   ]
  }
 ],
 "metadata": {
  "kernelspec": {
   "display_name": "Python 3",
   "language": "python",
   "name": "python3"
  },
  "language_info": {
   "codemirror_mode": {
    "name": "ipython",
    "version": 3
   },
   "file_extension": ".py",
   "mimetype": "text/x-python",
   "name": "python",
   "nbconvert_exporter": "python",
   "pygments_lexer": "ipython3",
   "version": "3.10.11"
  }
 },
 "nbformat": 4,
 "nbformat_minor": 5
}
