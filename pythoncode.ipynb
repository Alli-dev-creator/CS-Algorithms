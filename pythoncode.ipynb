{
 "cells": [
  {
   "cell_type": "markdown",
   "id": "7f6552be",
   "metadata": {},
   "source": [
    "                               "
   ]
  },
  {
   "cell_type": "code",
   "execution_count": 2,
   "id": "4b96e3db",
   "metadata": {},
   "outputs": [
    {
     "name": "stdout",
     "output_type": "stream",
     "text": [
      "Sum of square root 25 and the cube root of -8 is close to 3.00030517578125\n"
     ]
    }
   ],
   "source": [
    "x1 = 25\n",
    "epsilon = 0.01 \n",
    "if x1 < 0:\n",
    "    print(\"Does not exist\")\n",
    "else:\n",
    "    low = 0\n",
    "    high = max(1,x1)\n",
    "    ans = (high + low)/2\n",
    "    while abs(ans**2 - x1) >= epsilon:\n",
    "        if ans**2 > x1:\n",
    "            high = ans\n",
    "        else:\n",
    "            low = ans\n",
    "        ans = (high + low)/2\n",
    "x1_root = ans\n",
    "\n",
    "x2 = -8      \n",
    "if x2< 0: \n",
    "    is_pos = False\n",
    "    x2 = -x2\n",
    "else:\n",
    "    is_pos = True\n",
    "low = 0\n",
    "high = max(1,x2)\n",
    "ans = (high + low)/2\n",
    "while abs(ans**3 - x2) >= epsilon:\n",
    "    if ans**3 < x2:\n",
    "        low = ans \n",
    "    else:\n",
    "        high = ans\n",
    "    ans= (high + low)/2\n",
    "if is_pos:\n",
    "    x2_root = ans\n",
    "else:\n",
    "    x2_root = -ans\n",
    "    x2 = -x2\n",
    "print('Sum of square root', x1, 'and the cube root of', x2, 'is close to', x1_root + x2_root) "
   ]
  },
  {
   "cell_type": "code",
   "execution_count": null,
   "id": "b48fee54",
   "metadata": {},
   "outputs": [],
   "source": []
  }
 ],
 "metadata": {
  "kernelspec": {
   "display_name": "Python 3",
   "language": "python",
   "name": "python3"
  },
  "language_info": {
   "codemirror_mode": {
    "name": "ipython",
    "version": 3
   },
   "file_extension": ".py",
   "mimetype": "text/x-python",
   "name": "python",
   "nbconvert_exporter": "python",
   "pygments_lexer": "ipython3",
   "version": "3.10.11"
  }
 },
 "nbformat": 4,
 "nbformat_minor": 5
}
